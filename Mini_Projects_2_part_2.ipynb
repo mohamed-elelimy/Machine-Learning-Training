{
  "nbformat": 4,
  "nbformat_minor": 0,
  "metadata": {
    "colab": {
      "name": "Mini_Projects_2/ part 2.ipynb",
      "provenance": [],
      "include_colab_link": true
    },
    "kernelspec": {
      "name": "python3",
      "display_name": "Python 3"
    }
  },
  "cells": [
    {
      "cell_type": "markdown",
      "metadata": {
        "id": "view-in-github",
        "colab_type": "text"
      },
      "source": [
        "<a href=\"https://colab.research.google.com/github/mohamed-elelimy/Machine-Learning-Training/blob/main/Mini_Projects_2_part_2.ipynb\" target=\"_parent\"><img src=\"https://colab.research.google.com/assets/colab-badge.svg\" alt=\"Open In Colab\"/></a>"
      ]
    },
    {
      "cell_type": "code",
      "metadata": {
        "id": "WLPy95ZjZWoM"
      },
      "source": [
        "om google.colab import drive\n",
        "drive.mount('/content/drive')"
      ],
      "execution_count": null,
      "outputs": []
    },
    {
      "cell_type": "markdown",
      "metadata": {
        "id": "c2sSEq3uSurn"
      },
      "source": [
        "# Files and Exceptions"
      ]
    },
    {
      "cell_type": "markdown",
      "metadata": {
        "id": "qw2XyRs-TWIF"
      },
      "source": [
        "**8. Sum of Numbers** <br>\n",
        "Assume that a file containing a series of integers is named numbers.txt and exists on the computer’s disk. Write a program that reads all of the numbers stored in the file and calculates their total.\n"
      ]
    },
    {
      "cell_type": "code",
      "metadata": {
        "id": "92EStR9KSu8N"
      },
      "source": [
        "def main ():\n",
        "  num = open ('/content/drive/MyDrive/numbers (1).txt','r')\n",
        "  total = 0.0\n",
        "  for line in num :\n",
        "    run_time = float(line)\n",
        "    print('the number :', run_time)\n",
        "    total+=run_time\n",
        "  num .close()\n",
        "  print('')\n",
        "  print('the total = ' , total)\n",
        "main()"
      ],
      "execution_count": null,
      "outputs": []
    },
    {
      "cell_type": "code",
      "metadata": {
        "id": "B7GImG_lSu-u"
      },
      "source": [
        ""
      ],
      "execution_count": null,
      "outputs": []
    },
    {
      "cell_type": "markdown",
      "metadata": {
        "id": "gW0mWcdDVgK4"
      },
      "source": [
        "**9. Average of Numbers** <br>\n",
        "Assume that a file containing a series of integers is named numbers.txt and exists on the computer’s disk. Write a program that calculates the average of all the numbers stored in\n",
        "the file"
      ]
    },
    {
      "cell_type": "code",
      "metadata": {
        "id": "3-DZx-vnSvCe"
      },
      "source": [
        "def main ():\n",
        "  num = open ('/content/drive/MyDrive/numbers (1).txt','r')\n",
        "  total = 0.0\n",
        "  count = 0\n",
        "  for line in num :\n",
        "    run_time = float(line)\n",
        "    print('the number :', run_time)\n",
        "    count += 1\n",
        "    total+=run_time\n",
        "  num .close()\n",
        "  print('')\n",
        "  print('the total = ' ,format( total/count , ',.2f'))\n",
        "main()"
      ],
      "execution_count": null,
      "outputs": []
    },
    {
      "cell_type": "markdown",
      "metadata": {
        "id": "vjchCYETVwPx"
      },
      "source": [
        "**10. Random Number File Writer**<br>\n",
        "Write a program that writes a series of random numbers to a file. Each random number should be in the range of 1 \n",
        "through 500. The application should let the user specify how\n",
        "many random numbers the file will hold.\n"
      ]
    },
    {
      "cell_type": "code",
      "metadata": {
        "id": "DCyba_BZVxLF"
      },
      "source": [
        "import random \n",
        "def main():\n",
        "  days = int(input('how many days :'))\n",
        "  number_file = open('/content/drive/MyDrive/numbers (1).txt','w')\n",
        "  for count in range (1 , days+1):\n",
        "      sales = random.randint(1,500)\n",
        "      number_file.write(str(sales)+'\\n')\n",
        "  number_file.close()\n",
        "  print('data written to number_file.txt')\n",
        "main()"
      ],
      "execution_count": null,
      "outputs": []
    },
    {
      "cell_type": "code",
      "metadata": {
        "id": "uZ7CQJM0VxN5"
      },
      "source": [
        ""
      ],
      "execution_count": null,
      "outputs": []
    },
    {
      "cell_type": "markdown",
      "metadata": {
        "id": "p75ZKqbXWMdY"
      },
      "source": [
        "**11.  Exception Handing** <br>\n",
        "Modify the program that you wrote for Exercise 9 so it handles the following exceptions: <br>\n",
        "* It should handle any IOError exceptions that are raised when the file is opened and data\n",
        "is read from it. <br>\n",
        "* It should handle any ValueError exceptions that are raised when the items that are read from the file are converted to a number."
      ]
    },
    {
      "cell_type": "code",
      "metadata": {
        "id": "22SOHQbrVxRE"
      },
      "source": [
        "def main ():\n",
        "  try:  \n",
        "    num = open ('/content/drive/MyDrive/numbers (1).txt','r')\n",
        "    total = 0.0\n",
        "    count = 0\n",
        "    for line in num :\n",
        "      run_time = float(line)\n",
        "      print('the number :', run_time)\n",
        "      count += 1\n",
        "      total+=run_time\n",
        "    num .close()\n",
        "    print('')\n",
        "    print('the average = ' ,format( total/count , ',.2f'))\n",
        "  except IOError:\n",
        "    print('an error occured trying to read the file')\n",
        "  except ValueError :\n",
        "    print ('non numeric data fount in the file')\n",
        "  except:\n",
        "      print('error occured')\n",
        "main()"
      ],
      "execution_count": null,
      "outputs": []
    },
    {
      "cell_type": "code",
      "metadata": {
        "id": "3p0MENR_WrBV"
      },
      "source": [
        "from google.colab import drive\n",
        "drive.mount('/content/drive')"
      ],
      "execution_count": null,
      "outputs": []
    }
  ]
}